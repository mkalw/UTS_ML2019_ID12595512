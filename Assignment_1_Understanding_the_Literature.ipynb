{
  "nbformat": 4,
  "nbformat_minor": 0,
  "metadata": {
    "colab": {
      "name": "Assignment 1: Understanding the Literature.ipynb",
      "version": "0.3.2",
      "provenance": [],
      "collapsed_sections": [],
      "include_colab_link": true
    },
    "kernelspec": {
      "name": "python3",
      "display_name": "Python 3"
    }
  },
  "cells": [
    {
      "cell_type": "markdown",
      "metadata": {
        "id": "view-in-github",
        "colab_type": "text"
      },
      "source": [
        "<a href=\"https://colab.research.google.com/github/mkalw/UTS_ML2019_ID12595512/blob/master/Assignment_1_Understanding_the_Literature.ipynb\" target=\"_parent\"><img src=\"https://colab.research.google.com/assets/colab-badge.svg\" alt=\"Open In Colab\"/></a>"
      ]
    },
    {
      "cell_type": "markdown",
      "metadata": {
        "id": "2IcLRirofKk6",
        "colab_type": "text"
      },
      "source": [
        "https://colab.research.google.com/drive/13gBFIUJBBs_x0DqyWGxo9LwCJhha87wd\n",
        "\n",
        "#Review Report on “Eigenfaces vs. Fisherfaces: Recognition Using Class Specific Linear Projection”\n",
        "\n",
        "## Introduction\n",
        "Facial recognition was a well-researched and highly experimented during the late 1990s. Researchers targeted the various problems that arise through developing an effective and efficient method for facial detection. These problems included but weren’t limited to image variations such as lighting variations, illumination direction, variations in the viewpoint of the camera relative to the face and efficiency issues such as computation time and storage requirements. A decade after the release of the “Eigenfaces vs. Fisherfaces: Recognition Using Class Specific Linear Projection” report, facial recognition is widely used and is an integral part of security. Phones now have facial recognition technology capabilities for payment services and for security purposes that enable users to unlock their phone. Airports have also implemented facial detection as security measures during the check-in process, boarding and bag check-ins which has led to faster plane boarding times and increased efficiency and convenience for passengers and airport staff. Social media platforms also use this technology, in particular, Facebook which can automatically recognise its’ users when they appear in photos that have been uploaded to the platform. It is interesting to see the progression in facial recognition technology over the last decade, from experiencing difficulties in recognising faces in various conditions to being widely adopted by firms and used daily by individuals.\n",
        "\n",
        "## Content\n",
        "The paper addresses the debate over the most accurate, effective and efficient pattern classification technique by comparing the Correlation, Eigenfaces, Linear Subspaces and Fisherfaces techniques. Fisherfaces is developed by the researchers of the paper as an improvement on Fisher’s Linear Discriminant method. The researchers are attempting to resolve the challenge of identifying people in test images using a learning and testing image database. The image database used is labelled with the corresponding person’s identity from the learning set and the test set contains unlabelled images of faces with the same people. The image databases used were small sets of Harvard and Yale image databases. The approach taken was to convert each pixel in the face images into a coordinate in a high-dimensional space. The correlation method utilised the nearest neighbour classifier. The test set images are assigned a label of the closest point in the high dimensional space. The images then go through the normalisation process meaning that the mean and unit variance become zero which allows for producing results that aren’t affected by light source intensity and automatic gain control. This approach is equivalent to choosing the image from the learning set that best correlates with an image in the test set due to the normalisation process. As the correlation method is computation and storage intensive, the eigenfaces approach is taken as it is a linear projection that reduces the dimensionality and maximises the scatter of these projected samples. It is also known as a Principal Component Analysis (PCA) or Karhunen-Loeve technique. The Linear Subspaces technique was tested by using three or more images of the same face captured in varying lighting directions thereby building a 3D basis for the linear subspace. Detection is preformed through choosing the face with the shortest distance from the new image to each high dimensional subspace.  The Fisherfaces method is a class specific method as it shapes the scatter. This method maximises the ratio of the determinant of the between-class scatter matrix and within-class scatter matrix.\n",
        "\n",
        "## Innovation\n",
        "The researchers of this report have compared four pattern classification techniques, one of which is developed by the group as an improvement of Fisher’s Linear Discriminant method. The paper contributes a comparison between the Correlation, Eigenfaces, Linear Subspaces and Fisherfaces pattern classification techniques using the Harvard and Yale image databases. Research into Linear Discriminant Analysis had been conducted for a few decades prior to the release of this report. The researchers’ new technique, the Fisherface method, has provided them an error rate of 0.6%, reduced significantly from 7.3% and therefore the research paper and its findings are highly innovative. The researchers were creative in discovering a new technique that combined the strengths and capabilities of other techniques that proved, after significant testing, to be a considerable improvement over current facial recognition techniques. Testing their hypothesis of increased performance of algorithms when exploiting the Lambertian surfaces as they lie in a linear subspace has led to the innovative Fisherfaces technique. The approach to testing the pattern classification techniques were highly creative and innovative as they enhanced the images and database to produce the best result for each technique. An example of a creative and innovative approach includes the subsets utilised when testing the variation in lighting whereby each subset the angle of the light source direction from the camera axis was increased. The findings from the report will lead the reader to expand the possibilities and capabilities of this new technique and will contribute to developing more efficient and effective facial recognition techniques. The paper has led to the authors pursuing further research into models and possible techniques that can be developed to handle objects in any lighting situation furthering innovation in this field.\n",
        "\n",
        "## Technical Quality\n",
        "The paper is of high technical quality as the researchers have conducted a thorough and fair comparison of the four pattern classification techniques. The accuracy measured on the training set is higher than the actual test error, indicating fair and impartial testing. The researchers of this report have clearly stated all the details required to replicate the experiments by clearly demonstrating the methods they utilised, the image databases they accessed, the number of images used, and the expected results and outcomes of each experiment conducted. All pattern classification techniques can be fairly compared to one another as they are all viable methods of facial detection. The researchers could have increased the technical quality of this report by using the same image database in all tests instead of alternating between the Harvard database and Yale database to ensure a fair comparison. All techniques were tested with a simple classifier, the nearest neighbour classifier and therefore testing was consistent. Conclusions were drawn from this report without the researchers experimenting with a larger database and testing whether results can be replicated and reflected in a larger database. The report also makes assumptions such as faces being Lambertian surfaces without shadows however in reality faces aren’t Lambertian surfaces and can have shadows so the implementation of this technique in the real world would not be effective. \n",
        "\n",
        "## Application and X-Factor\n",
        "The application domain is appropriate for the proposed technique but can also be applied to other application domains as the technique can be versatile. Further developments of the research work could be explored especially after the conclusions that were drawn from this report. The findings from the report will lead the reader to question the possibilities and capabilities of this new technique and will contribute to developing the most efficient and effective facial recognition techniques. As the Harvard and Yale image databases were relatively small, it raises the question of whether it will behave similarly when the method is applied to larger image databases. The Fisherface method takes into account Lambertian surfaces without shadows, meaning that at the time of the report face recognition techniques would fail in severe lighting conditions. If shadows dominate the image, then the performance of the all the techniques that have been mentioned in this report will be severely diminished. It would be interesting to explore the possibility of accommodating these lighting variations if some faces were just observed under a single lighting condition. The development of a new facial recognition method that can handle shadowed regions is required to overcome this issue and progress in the field of facial recognition.\n",
        "\n",
        "## Presentation\n",
        "The presentation of the report is of high quality and therefore is easy to read and find information. The authors have clearly presented their arguments through the use of numbered headings and subheadings for the abstract, introduction, method from the results, conclusion resulting in an easy to follow report and an overall clear structure.  Each pattern classification technique has its own subheading within the method section of the report with equations, graphs and images from the database supplementing the arguments and explanations. The paper provides sample images to demonstrate how the training set and test set images look like in terms of camera angles, lighting variations in angle and intensity, changes in facial expressions, size and composition of images which heightened the clarity of the presentation. The equations and graphs provided explain the concepts and theory behind each pattern classification technique well which increased the depth of the presentation. \n",
        "\n",
        "## References\n",
        "BEL97: Belhumeur, P., Hespanha, J., Kriegman, D., (1997), Eigenfaces vs. Fisherfaces: Recognition Using Class Specific Linear Projection, IEEE TRANSACTIONS ON PATTERN ANALYSIS AND MACHINE INTELLIGENCE, VOL. 19, NO. 7\n",
        "\n",
        "Adini, Y., Moses, Y., Ullman, S., (1997), Face recognition: the problem of compensating for changes in illumination direction, IEEE TRANSACTIONS ON PATTERN ANALYSIS AND MACHINE INTELLIGENCE, VOL. 19, NO. 7\n",
        "\n",
        "Hill, H., Schyns, P., Akamatsu, S., (1997), Information and viewpoint dependence in face recognition., Cognition Volume 62, Issue 2\n",
        "\n",
        "\n"
      ]
    }
  ]
}